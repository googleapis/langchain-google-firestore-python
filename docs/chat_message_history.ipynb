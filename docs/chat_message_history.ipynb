{
 "cells": [
  {
   "cell_type": "markdown",
   "metadata": {},
   "source": [
    "# Cloud Firestore\n",
    "\n",
    "[Cloud Firestore](https://cloud.google.com/firestore) is a serverless document-oriented database that scales to meet any demand. \n",
    "\n",
    "This package allows you to save chat messages into `Firestore` Native."
   ]
  },
  {
   "cell_type": "markdown",
   "metadata": {},
   "source": [
    "## Pre-reqs"
   ]
  },
  {
   "cell_type": "code",
   "execution_count": null,
   "metadata": {
    "tags": []
   },
   "outputs": [],
   "source": [
    "%pip install langchain-google-firestore"
   ]
  },
  {
   "cell_type": "code",
   "execution_count": 3,
   "metadata": {
    "tags": []
   },
   "outputs": [],
   "source": [
    "from langchain_google_firestore import FirestoreChatMessageHistory"
   ]
  },
  {
   "cell_type": "markdown",
   "metadata": {},
   "source": [
    "## Basic Usage"
   ]
  },
  {
   "cell_type": "code",
   "execution_count": null,
   "metadata": {},
   "outputs": [],
   "source": [
    "from langchain_google_firestore import FirestoreChatMessageHistory\n",
    "\n",
    "chat_history = FirestoreChatMessageHistory(\n",
    "    session_id=\"user-session-id\", collection=\"HistoryMessages\"\n",
    ")\n",
    "\n",
    "chat_history.add_user_message(\"Hi!\")\n",
    "chat_history.add_ai_message(\"How can I help you?\")"
   ]
  },
  {
   "cell_type": "code",
   "execution_count": null,
   "metadata": {},
   "outputs": [],
   "source": [
    "chat_history.messages"
   ]
  },
  {
   "cell_type": "markdown",
   "metadata": {},
   "source": [
    "## Cleanup\n",
    "\n",
    "Deleting the history for the session from the database and memory."
   ]
  },
  {
   "cell_type": "code",
   "execution_count": null,
   "metadata": {},
   "outputs": [],
   "source": [
    "chat_history.clear()"
   ]
  },
  {
   "cell_type": "markdown",
   "metadata": {},
   "source": [
    "## Custom Client\n",
    "\n",
    "The client is created by default using the available environment variables. A [custom client](https://cloud.google.com/python/docs/reference/firestore/latest/client) can be passed to the constructor."
   ]
  },
  {
   "cell_type": "code",
   "execution_count": null,
   "metadata": {},
   "outputs": [],
   "source": [
    "from google.auth import compute_engine\n",
    "from google.cloud import firestore\n",
    "\n",
    "client = firestore.Client(\n",
    "    project=\"project-custom\",\n",
    "    database=\"non-default-database\",\n",
    "    credentials=compute_engine.Credentials(),\n",
    ")\n",
    "\n",
    "history = FirestoreChatMessageHistory(\n",
    "    session_id=\"session-id\", collection=\"History\", client=client\n",
    ")\n",
    "\n",
    "history.add_user_message(\"New message\")\n",
    "\n",
    "history.messages\n",
    "\n",
    "history.clear()"
   ]
  }
 ],
 "metadata": {
  "kernelspec": {
   "display_name": "Python 3 (ipykernel)",
   "language": "python",
   "name": "python3"
  },
  "language_info": {
   "codemirror_mode": {
    "name": "ipython",
    "version": 3
   },
   "file_extension": ".py",
   "mimetype": "text/x-python",
   "name": "python",
   "nbconvert_exporter": "python",
   "pygments_lexer": "ipython3",
   "version": "3.10.6"
  }
 },
 "nbformat": 4,
 "nbformat_minor": 4
}
