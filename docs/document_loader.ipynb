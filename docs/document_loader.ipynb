{
 "cells": [
  {
   "cell_type": "markdown",
   "metadata": {},
   "source": [
    "# Cloud Firestore\n",
    "\n",
    "[Cloud Firestore](https://cloud.google.com/firestore) is a serverless document-oriented database that scales to meet any demand. \n",
    "\n",
    "Load and store documents from `Firestore` Native."
   ]
  },
  {
   "cell_type": "markdown",
   "metadata": {},
   "source": [
    "## Pre-reqs"
   ]
  },
  {
   "cell_type": "code",
   "execution_count": null,
   "metadata": {
    "tags": []
   },
   "outputs": [],
   "source": [
    "%pip install langchain-google-firestore"
   ]
  },
  {
   "cell_type": "code",
   "execution_count": 3,
   "metadata": {
    "tags": []
   },
   "outputs": [],
   "source": [
    "from langchain_google_firestore import FirestoreLoader, FirestoreSaver"
   ]
  },
  {
   "cell_type": "markdown",
   "metadata": {},
   "source": [
    "## Basic Usage"
   ]
  },
  {
   "cell_type": "markdown",
   "metadata": {},
   "source": [
    "### Load from Collection or SubCollection"
   ]
  },
  {
   "cell_type": "code",
   "execution_count": 6,
   "metadata": {},
   "outputs": [],
   "source": [
    "loader_collection = FirestoreLoader(\"Collection\")\n",
    "loader_subcollection = FirestoreLoader(\"Collection/doc/SubCollection\")\n",
    "\n",
    "\n",
    "data_collection = loader_collection.load()\n",
    "data_subcollection = loader_subcollection.load()"
   ]
  },
  {
   "cell_type": "markdown",
   "metadata": {},
   "source": [
    "### Load a single Document"
   ]
  },
  {
   "cell_type": "code",
   "execution_count": null,
   "metadata": {},
   "outputs": [],
   "source": [
    "from google.cloud import firestore\n",
    "\n",
    "client = firestore.Client()\n",
    "doc_ref = client.collection(\"foo\").document(\"bar\")\n",
    "\n",
    "loader_document = FirestoreLoader(doc_ref)\n",
    "\n",
    "data = loader_document.load()"
   ]
  },
  {
   "cell_type": "markdown",
   "metadata": {},
   "source": [
    "### Load from CollectionGroup or Query"
   ]
  },
  {
   "cell_type": "code",
   "execution_count": null,
   "metadata": {},
   "outputs": [],
   "source": [
    "from google.cloud.firestore import CollectionGroup, Query, FieldFilter\n",
    "\n",
    "col_ref = client.collection(\"col_group\")\n",
    "collection_group = CollectionGroup(col_ref)\n",
    "\n",
    "loader_group = FirestoreLoader(collection_group)\n",
    "\n",
    "col_ref = client.collection(\"collection\")\n",
    "query = col_ref.where(filter=FieldFilter(\"region\", \"==\", \"west_coast\"))\n",
    "\n",
    "loader_query = FirestoreLoader(query)"
   ]
  },
  {
   "cell_type": "markdown",
   "metadata": {},
   "source": [
    "## Customize Document Page Content & Metadata\n",
    "\n",
    "The arguments of `page_content_fields` and `metadata_fields` will specify the Firestore Document fields to be written into LangChain Document `page_content` and `metadata`."
   ]
  },
  {
   "cell_type": "code",
   "execution_count": 8,
   "metadata": {},
   "outputs": [],
   "source": [
    "loader = FirestoreLoader(\n",
    "    source=\"foo/bar/subcol\",\n",
    "    page_content_fields=[\"data_field\"],\n",
    "    metadata_fields=[\"metadata_field\"],\n",
    ")\n",
    "\n",
    "data = loader.load()"
   ]
  },
  {
   "cell_type": "markdown",
   "metadata": {},
   "source": [
    "### Customize Page Content Format\n",
    "\n",
    "When the `page_content` contains only one field the information will be the field value only. Otherwise the `page_content` will be in JSON format."
   ]
  },
  {
   "cell_type": "markdown",
   "metadata": {},
   "source": [
    "## Save Documents\n",
    "\n",
    "`FirestoreSaver` can store Documents into Firestore. By default it will try to extract the Document reference from the metadata"
   ]
  },
  {
   "cell_type": "code",
   "execution_count": null,
   "metadata": {},
   "outputs": [],
   "source": [
    "saver = FirestoreSaver()\n",
    "\n",
    "saver.upsert_documents(data)"
   ]
  },
  {
   "cell_type": "markdown",
   "metadata": {},
   "source": [
    "### Save Documents without reference\n",
    "\n",
    "If a collection is specified the documents will be stored with an auto generated id"
   ]
  },
  {
   "cell_type": "code",
   "execution_count": null,
   "metadata": {},
   "outputs": [],
   "source": [
    "saver = FirestoreSaver(\"Collection\")\n",
    "\n",
    "saver.upsert_documents(data)"
   ]
  },
  {
   "cell_type": "markdown",
   "metadata": {},
   "source": [
    "### Save Documents with other references"
   ]
  },
  {
   "cell_type": "code",
   "execution_count": null,
   "metadata": {},
   "outputs": [],
   "source": [
    "doc_ids = [\"AnotherCollection/doc_id\", \"foo/bar\"]\n",
    "saver = FirestoreSaver()\n",
    "\n",
    "saver.upsert_documents(documents=data, document_ids=doc_ids)"
   ]
  },
  {
   "cell_type": "markdown",
   "metadata": {},
   "source": [
    "### Delete Documents"
   ]
  },
  {
   "cell_type": "code",
   "execution_count": null,
   "metadata": {},
   "outputs": [],
   "source": [
    "saver = FirestoreSaver()\n",
    "\n",
    "saver.delete_documents(data)\n",
    "\n",
    "# The Documents will be ignored and only the document ids will be used.\n",
    "saver.delete_documents(data, doc_ids)"
   ]
  },
  {
   "cell_type": "markdown",
   "metadata": {},
   "source": [
    "## Customize Connection & Authentication"
   ]
  },
  {
   "cell_type": "code",
   "execution_count": null,
   "metadata": {},
   "outputs": [],
   "source": [
    "from google.auth import compute_engine\n",
    "from google.cloud.firestore import Client\n",
    "\n",
    "client = Client(\n",
    "    database = \"non-default-db\",\n",
    "    creds=compute_engine.Credentials())\n",
    "loader = FirestoreLoader(\n",
    "    source=\"foo\"\n",
    "    client=client,\n",
    ")"
   ]
  }
 ],
 "metadata": {
  "kernelspec": {
   "display_name": "Python 3 (ipykernel)",
   "language": "python",
   "name": "python3"
  },
  "language_info": {
   "codemirror_mode": {
    "name": "ipython",
    "version": 3
   },
   "file_extension": ".py",
   "mimetype": "text/x-python",
   "name": "python",
   "nbconvert_exporter": "python",
   "pygments_lexer": "ipython3",
   "version": "3.10.6"
  }
 },
 "nbformat": 4,
 "nbformat_minor": 4
}
