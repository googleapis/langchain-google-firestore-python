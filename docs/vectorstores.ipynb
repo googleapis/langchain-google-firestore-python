{
 "cells": [
  {
   "cell_type": "raw",
   "id": "1957f5cb",
   "metadata": {},
   "source": [
    "---\n",
    "sidebar_label: Firestore\n",
    "---"
   ]
  },
  {
   "cell_type": "markdown",
   "id": "ef1f0986",
   "metadata": {},
   "source": [
    "# FirestoreVectorStore\n",
    "\n",
    "This notebook covers how to get started with the Firestore vector store.\n",
    "\n",
    "## Installation"
   ]
  },
  {
   "cell_type": "code",
   "execution_count": null,
   "id": "d97b55c2",
   "metadata": {},
   "outputs": [],
   "source": [
    "# install package\n",
    "!pip install -U langchain-google-genai\n",
    "!pip install -U langchain-google-firestore"
   ]
  },
  {
   "cell_type": "markdown",
   "id": "36fdc060",
   "metadata": {},
   "source": [
    "## Environment Setup\n",
    "\n",
    "Make sure to set the following environment variables:\n",
    "\n",
    "- TODO: fill out relevant environment variables or secrets\n",
    "- Op\n",
    "\n",
    "## Usage"
   ]
  },
  {
   "cell_type": "code",
   "execution_count": null,
   "id": "dc37144c-208d-4ab3-9f3a-0407a69fe052",
   "metadata": {
    "tags": []
   },
   "outputs": [],
   "source": [
    "from langchain_google_firestore.vectorstores import FirestoreVectorStore\n",
    "from langchain_google_genai import GoogleGenerativeAIEmbeddings\n",
    "from google.api_core.client_options import ClientOptions\n",
    "from google.cloud import firestore\n",
    "\n",
    "client_options = ClientOptions(api_endpoint=\"test-firestore.sandbox.googleapis.com\")\n",
    "client = firestore.Client(\n",
    "    client_options=client_options, project=\"fir-vector-invertase-03\"\n",
    ")\n",
    "embedding = GoogleGenerativeAIEmbeddings(\n",
    "    model=\"models/embedding-001\", google_api_key=\"API_KEY\"\n",
    ")\n",
    "\n",
    "vs = FirestoreVectorStore(\"products\", embedding, client=client)\n",
    "\n",
    "fruits = [\n",
    "    \"apple\",\n",
    "    \"banana\",\n",
    "    \"cherry\",\n",
    "    \"date\",\n",
    "    \"elderberry\",\n",
    "    \"fig\",\n",
    "    \"grape\",\n",
    "    \"honeydew\",\n",
    "    \"kiwi\",\n",
    "    \"lemon\",\n",
    "]\n",
    "vs.add_texts(fruits)"
   ]
  }
 ],
 "metadata": {
  "kernelspec": {
   "display_name": "Python 3 (ipykernel)",
   "language": "python",
   "name": "python3"
  },
  "language_info": {
   "codemirror_mode": {
    "name": "ipython",
    "version": 3
   },
   "file_extension": ".py",
   "mimetype": "text/x-python",
   "name": "python",
   "nbconvert_exporter": "python",
   "pygments_lexer": "ipython3",
   "version": "3.11.3"
  }
 },
 "nbformat": 4,
 "nbformat_minor": 5
}
