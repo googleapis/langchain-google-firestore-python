{
 "cells": [
  {
   "cell_type": "raw",
   "id": "1957f5cb",
   "metadata": {},
   "source": [
    "---\n",
    "sidebar_label: Firestore\n",
    "---"
   ]
  },
  {
   "cell_type": "markdown",
   "id": "ef1f0986",
   "metadata": {},
   "source": [
    "# FirestoreVectorStore\n",
    "\n",
    "This notebook covers how to get started with the Firestore vector store.\n",
    "\n",
    "## Installation"
   ]
  },
  {
   "cell_type": "code",
   "execution_count": null,
   "id": "d97b55c2",
   "metadata": {},
   "outputs": [],
   "source": [
    "# install package\n",
    "!pip install -U langchain-google-genai\n",
    "!pip install -U langchain-google-firestore"
   ]
  },
  {
   "cell_type": "markdown",
   "id": "36fdc060",
   "metadata": {},
   "source": [
    "## Environment Setup\n",
    "\n",
    "Make sure to set the following environment variables:\n",
    "\n",
    "- TODO: fill out relevant environment variables or secrets\n",
    "- Op\n",
    "\n",
    "## Usage"
   ]
  },
  {
   "cell_type": "code",
   "execution_count": null,
   "id": "dc37144c-208d-4ab3-9f3a-0407a69fe052",
   "metadata": {
    "tags": []
   },
   "outputs": [],
   "source": [
    "from langchain_google_firestore.vectorstores import FirestoreVectorStore\n",
    "from langchain_google_genai import GoogleGenerativeAIEmbeddings\n",
    "\n",
    "embedding = GoogleGenerativeAIEmbeddings(\n",
    "    model=\"models/embedding-001\",\n",
    "    google_api_key=\"API_KEY\",\n",
    ")\n",
    "\n",
    "fruits = [\"apple\", \"banana\", \"cherry\", \"date\", \"elderberry\", \"fig\", \"grape\", \"honeydew\"]"
   ]
  },
  {
   "cell_type": "code",
   "execution_count": null,
   "id": "34284a48",
   "metadata": {},
   "outputs": [],
   "source": [
    "# Initialize from a list of texts\n",
    "vs = FirestoreVectorStore.from_texts([], embedding, source=\"products2\")"
   ]
  },
  {
   "cell_type": "code",
   "execution_count": null,
   "id": "b3913623",
   "metadata": {},
   "outputs": [],
   "source": [
    "vs.similarity_search(\"apple\", 5)"
   ]
  },
  {
   "cell_type": "code",
   "execution_count": null,
   "id": "938cfaad",
   "metadata": {},
   "outputs": [],
   "source": [
    "vs.max_marginal_relevance_search(\"apple\", 5)"
   ]
  },
  {
   "cell_type": "code",
   "execution_count": null,
   "id": "acb2f640",
   "metadata": {},
   "outputs": [],
   "source": []
  }
 ],
 "metadata": {
  "kernelspec": {
   "display_name": "Python 3 (ipykernel)",
   "language": "python",
   "name": "python3"
  },
  "language_info": {
   "codemirror_mode": {
    "name": "ipython",
    "version": 3
   },
   "file_extension": ".py",
   "mimetype": "text/x-python",
   "name": "python",
   "nbconvert_exporter": "python",
   "pygments_lexer": "ipython3",
   "version": "3.11.3"
  }
 },
 "nbformat": 4,
 "nbformat_minor": 5
}
