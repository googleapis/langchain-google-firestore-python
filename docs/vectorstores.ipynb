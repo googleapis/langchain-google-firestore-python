{
 "cells": [
  {
   "cell_type": "raw",
   "id": "1957f5cb",
   "metadata": {},
   "source": [
    "---\n",
    "sidebar_label: Firestore\n",
    "---"
   ]
  },
  {
   "cell_type": "markdown",
   "id": "ef1f0986",
   "metadata": {},
   "source": [
    "# Cloud Firestore\n",
    "\n",
    "> [Cloud Firestore](https://cloud.google.com/firestore) is a serverless document-oriented database that scales to meet any demand. Extend your database application to build AI-powered experiences leveraging Firestore's Langchain integrations.\n",
    "\n",
    "This notebook goes over how to use [Cloud Firestore](https://cloud.google.com/firestore) to to store vectors and query them using the `FirestoreVectorStore` class.\n",
    "\n",
    "[![Open In Colab](https://colab.research.google.com/assets/colab-badge.svg)](https://colab.research.google.com/github/googleapis/langchain-google-firestore-python/blob/main/docs/vectorstores.ipynb)"
   ]
  },
  {
   "cell_type": "markdown",
   "id": "36fdc060",
   "metadata": {},
   "source": [
    "## Before You Begin\n",
    "\n",
    "To run this notebook, you will need to do the following:\n",
    "* [Create a Google Cloud Project](https://developers.google.com/workspace/guides/create-project)\n",
    "* [Create a Firestore database](https://cloud.google.com/firestore/docs/manage-databases)\n",
    "\n",
    "After confirmed access to database in the runtime environment of this notebook, filling the following values and run the cell before running example scripts."
   ]
  },
  {
   "cell_type": "code",
   "execution_count": null,
   "id": "22e53b34",
   "metadata": {},
   "outputs": [],
   "source": [
    "# @markdown Please specify a source for demo purpose.\n",
    "SOURCE = \"test\"  # @param {type:\"Query\"|\"CollectionGroup\"|\"DocumentReference\"|\"string\"}"
   ]
  },
  {
   "cell_type": "markdown",
   "id": "e5d3d8e4",
   "metadata": {},
   "source": [
    "### 🦜🔗 Library Installation\n",
    "\n",
    "The integration lives in its own `langchain-google-firestore` package, so we need to install it. For this notebook, we will also install `langchain-google-genai` to use Google Generative AI embeddings."
   ]
  },
  {
   "cell_type": "code",
   "execution_count": null,
   "id": "75510ef7",
   "metadata": {},
   "outputs": [],
   "source": [
    "%pip install -upgrade --quiet langchain-google-firestore langchain-google-genai"
   ]
  },
  {
   "cell_type": "markdown",
   "id": "2664ca45",
   "metadata": {},
   "source": [
    "**Colab only**: Uncomment the following cell to restart the kernel or use the button to restart the kernel. For Vertex AI Workbench you can restart the terminal using the button on top."
   ]
  },
  {
   "cell_type": "code",
   "execution_count": null,
   "id": "ddfcd6b7",
   "metadata": {},
   "outputs": [],
   "source": [
    "# # Automatically restart kernel after installs so that your environment can access the new packages\n",
    "# import IPython\n",
    "\n",
    "# app = IPython.Application.instance()\n",
    "# app.kernel.do_shutdown(True)"
   ]
  },
  {
   "cell_type": "markdown",
   "id": "4ab63daa",
   "metadata": {},
   "source": [
    "### ☁ Set Your Google Cloud Project\n",
    "Set your Google Cloud project so that you can leverage Google Cloud resources within this notebook.\n",
    "\n",
    "If you don't know your project ID, try the following:\n",
    "\n",
    "* Run `gcloud config list`.\n",
    "* Run `gcloud projects list`.\n",
    "* See the support page: [Locate the project ID](https://support.google.com/googleapi/answer/7014113)."
   ]
  },
  {
   "cell_type": "code",
   "execution_count": null,
   "id": "129f1f8d",
   "metadata": {},
   "outputs": [],
   "source": [
    "# @markdown Please fill in the value below with your Google Cloud project ID and then run the cell.\n",
    "\n",
    "PROJECT_ID = \"fir-vector-invertase-03\"  # @param {type:\"string\"}\n",
    "\n",
    "# Set the project id\n",
    "!gcloud config set project {PROJECT_ID}"
   ]
  },
  {
   "cell_type": "markdown",
   "id": "ccd32ce5",
   "metadata": {},
   "source": [
    "### 🔐 Authentication\n",
    "\n",
    "Authenticate to Google Cloud as the IAM user logged into this notebook in order to access your Google Cloud Project.\n",
    "\n",
    "- If you are using Colab to run this notebook, use the cell below and continue.\n",
    "- If you are using Vertex AI Workbench, check out the setup instructions [here](https://github.com/GoogleCloudPlatform/generative-ai/tree/main/setup-env)."
   ]
  },
  {
   "cell_type": "code",
   "execution_count": null,
   "id": "4b5793e7",
   "metadata": {},
   "outputs": [],
   "source": [
    "from google.colab import auth\n",
    "\n",
    "auth.authenticate_user()"
   ]
  },
  {
   "cell_type": "markdown",
   "id": "2d040213",
   "metadata": {},
   "source": [
    "### API Enablement\n",
    "The `langchain-google-firestore` package requires that you [enable the Firestore Admin API](https://console.cloud.google.com/flows/enableapi?apiid=firestore.googleapis.com) in your Google Cloud Project."
   ]
  },
  {
   "cell_type": "code",
   "execution_count": null,
   "id": "71973a75",
   "metadata": {},
   "outputs": [],
   "source": [
    "# enable Firestore Admin API\n",
    "!gcloud services enable firestore.googleapis.com"
   ]
  },
  {
   "cell_type": "markdown",
   "id": "2cade39f",
   "metadata": {},
   "source": [
    "# Basic Usage"
   ]
  },
  {
   "cell_type": "markdown",
   "id": "580e6f96",
   "metadata": {},
   "source": [
    "## Add Embeddings\n",
    "\n",
    "`FirestoreVectroStore` allows you to store new vectors in a Firestore database. You can use it to store embeddings from any model, including those from Google Generative AI."
   ]
  },
  {
   "cell_type": "code",
   "execution_count": null,
   "id": "dc37144c-208d-4ab3-9f3a-0407a69fe052",
   "metadata": {
    "tags": []
   },
   "outputs": [],
   "source": [
    "from langchain_google_firestore.vectorstores import FirestoreVectorStore\n",
    "from langchain_google_genai import GoogleGenerativeAIEmbeddings\n",
    "from langchain_core.documents import Document\n",
    "\n",
    "from google.cloud import firestore\n",
    "\n",
    "\n",
    "embedding = GoogleGenerativeAIEmbeddings(\n",
    "    model=\"models/embedding-001\",\n",
    "    google_api_key=\"API_KEY\",\n",
    ")\n",
    "\n",
    "# Sample data\n",
    "fruits_texts = ['{\"name\": \"apple\"}', '{\"name\": \"banana\"}', '{\"name\": \"orange\"}']\n",
    "fruits_docs = [Document(page_content=fruit) for fruit in fruits_texts]\n",
    "\n",
    "# Create a vector store\n",
    "vector_store = FirestoreVectorStore(\n",
    "    collection=\"fruits\",\n",
    "    embedding=embedding,\n",
    ")\n",
    "\n",
    "# Add the fruits to the vector store\n",
    "vector_store.add_texts(fruits_texts)"
   ]
  },
  {
   "cell_type": "markdown",
   "id": "f8a4d7f7",
   "metadata": {},
   "source": [
    "As a shorthand, you can initilize and add vectors in a single step using the `from_texts` and `from_documents` method."
   ]
  },
  {
   "cell_type": "code",
   "execution_count": null,
   "id": "0bb6745e",
   "metadata": {},
   "outputs": [],
   "source": [
    "vector_store = FirestoreVectorStore.from_texts(\n",
    "    client=client,\n",
    "    collection=\"fruits\",\n",
    "    texts=fruits_texts,\n",
    "    embedding=embedding,\n",
    ")"
   ]
  },
  {
   "cell_type": "code",
   "execution_count": null,
   "id": "f86024b9",
   "metadata": {},
   "outputs": [],
   "source": [
    "vector_store = FirestoreVectorStore.from_documents(\n",
    "    client=client,\n",
    "    collection=\"fruits\",\n",
    "    documents=fruits_docs,\n",
    "    embedding=embedding,\n",
    ")"
   ]
  },
  {
   "cell_type": "markdown",
   "id": "16342b7a",
   "metadata": {},
   "source": [
    "## Similarity Search\n",
    "\n",
    "You can use the `FirestoreVectorStore` to perform similarity searches on the vectors you have stored. This is useful for finding similar documents or text."
   ]
  },
  {
   "cell_type": "code",
   "execution_count": null,
   "id": "44d1b94e",
   "metadata": {},
   "outputs": [],
   "source": [
    "vector_store.similarity_search('{\"name\": \"fuji\"}', 3)"
   ]
  },
  {
   "cell_type": "code",
   "execution_count": null,
   "id": "acb2f640",
   "metadata": {},
   "outputs": [],
   "source": [
    "vector_store.max_marginal_relevance_search('{\"name\": \"gala\"}', 5)"
   ]
  },
  {
   "cell_type": "code",
   "execution_count": null,
   "id": "cd864d4f",
   "metadata": {},
   "outputs": [],
   "source": []
  }
 ],
 "metadata": {
  "kernelspec": {
   "display_name": "Python 3 (ipykernel)",
   "language": "python",
   "name": "python3"
  },
  "language_info": {
   "codemirror_mode": {
    "name": "ipython",
    "version": 3
   },
   "file_extension": ".py",
   "mimetype": "text/x-python",
   "name": "python",
   "nbconvert_exporter": "python",
   "pygments_lexer": "ipython3",
   "version": "3.11.3"
  }
 },
 "nbformat": 4,
 "nbformat_minor": 5
}
